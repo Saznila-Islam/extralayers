{
 "cells": [
  {
   "cell_type": "code",
   "execution_count": 1,
   "id": "dcc14544-209e-43a1-8cb3-64664714b6b5",
   "metadata": {},
   "outputs": [],
   "source": [
    "import numpy as np\n",
    "import matplotlib.pyplot as plt\n",
    "import os\n",
    "from PIL import Image\n",
    "%matplotlib inline"
   ]
  },
  {
   "cell_type": "code",
   "execution_count": 2,
   "id": "708e6dec-f268-4401-9f85-31aeeb545d07",
   "metadata": {},
   "outputs": [
    {
     "name": "stdout",
     "output_type": "stream",
     "text": [
      "['.ipynb_checkpoints', 'datasets.zip', 'extralayers.ipynb', 'test', 'train', 'val']\n"
     ]
    }
   ],
   "source": [
    "print(os.listdir(\"../Datasets/\"))"
   ]
  },
  {
   "cell_type": "code",
   "execution_count": 3,
   "id": "adced05f-cd23-4587-9022-36c6a3cf1fcb",
   "metadata": {},
   "outputs": [],
   "source": [
    "from tensorflow.keras.models import Sequential\n",
    "from tensorflow.keras.layers import Dense, Conv2D , MaxPooling2D, Flatten\n",
    "from tensorflow.keras.preprocessing.image import ImageDataGenerator, load_img\n",
    "\n",
    "from sklearn.metrics import classification_report, confusion_matrix"
   ]
  },
  {
   "cell_type": "code",
   "execution_count": 4,
   "id": "44a92eec-6747-4eb7-a109-21747a48e853",
   "metadata": {},
   "outputs": [],
   "source": [
    "datasets_dir=os.listdir(\"../Datasets/\")"
   ]
  },
  {
   "cell_type": "code",
   "execution_count": 5,
   "id": "7c61b8aa-49ad-4639-a3a3-ad33dc0f4888",
   "metadata": {},
   "outputs": [],
   "source": [
    "train_datasets=\"../Datasets/train\"\n",
    "test_datasets=\"../Datasets/test\"\n",
    "validation_datasets=\"../Datasets/val\""
   ]
  },
  {
   "cell_type": "code",
   "execution_count": 6,
   "id": "e78778a6-4a85-44e3-b81a-6e4851b8de5b",
   "metadata": {},
   "outputs": [
    {
     "name": "stdout",
     "output_type": "stream",
     "text": [
      "3875\n",
      "1342\n"
     ]
    }
   ],
   "source": [
    "trainDatasets_normal=\"../Datasets/train/NORMAL\"\n",
    "train_datasets_pne=\"../Datasets/train/PNEUMONIA\"\n",
    "print(len(os.listdir(train_datasets_pne)))\n",
    "print(len(os.listdir(trainDatasets_normal)))"
   ]
  },
  {
   "cell_type": "code",
   "execution_count": 7,
   "id": "29c0fe95-8517-405c-9108-fec0271d8164",
   "metadata": {},
   "outputs": [
    {
     "data": {
      "text/plain": [
       "697"
      ]
     },
     "execution_count": 7,
     "metadata": {},
     "output_type": "execute_result"
    }
   ],
   "source": [
    "random_value_normal=np.random.randint(0,len(os.listdir(trainDatasets_normal)))\n",
    "random_value_pne=np.random.randint(0,len(os.listdir(train_datasets_pne)))\n",
    "random_value_normal"
   ]
  },
  {
   "cell_type": "code",
   "execution_count": 8,
   "id": "4cc11acb-9284-40e2-9000-baab114844e7",
   "metadata": {},
   "outputs": [
    {
     "name": "stdout",
     "output_type": "stream",
     "text": [
      "NORMAL IMAGE\n",
      "Normal image NORMAL2-IM-0512-0001.jpeg\n",
      "Pneumonia image person945_bacteria_2870.jpeg\n"
     ]
    },
    {
     "ename": "FileNotFoundError",
     "evalue": "[Errno 2] No such file or directory: '../Datasets/train/NORMALNORMAL2-IM-0512-0001.jpeg'",
     "output_type": "error",
     "traceback": [
      "\u001b[1;31m---------------------------------------------------------------------------\u001b[0m",
      "\u001b[1;31mFileNotFoundError\u001b[0m                         Traceback (most recent call last)",
      "\u001b[1;32m~\\AppData\\Local\\Temp/ipykernel_17272/2324111382.py\u001b[0m in \u001b[0;36m<module>\u001b[1;34m\u001b[0m\n\u001b[0;32m      7\u001b[0m \u001b[0mpne_image_datasets\u001b[0m\u001b[1;33m=\u001b[0m\u001b[0mrandom_pne_pic\u001b[0m\u001b[1;33m\u001b[0m\u001b[1;33m\u001b[0m\u001b[0m\n\u001b[0;32m      8\u001b[0m \u001b[0mprint\u001b[0m\u001b[1;33m(\u001b[0m\u001b[1;34m\"Pneumonia image\"\u001b[0m\u001b[1;33m,\u001b[0m\u001b[0mrandom_pne_pic\u001b[0m\u001b[1;33m)\u001b[0m\u001b[1;33m\u001b[0m\u001b[1;33m\u001b[0m\u001b[0m\n\u001b[1;32m----> 9\u001b[1;33m \u001b[0mrandom_normalpic_load\u001b[0m\u001b[1;33m=\u001b[0m\u001b[0mImage\u001b[0m\u001b[1;33m.\u001b[0m\u001b[0mopen\u001b[0m\u001b[1;33m(\u001b[0m\u001b[0mtrainDatasets_normal\u001b[0m\u001b[1;33m+\u001b[0m\u001b[0mnormal_image_datasets\u001b[0m\u001b[1;33m)\u001b[0m\u001b[1;33m\u001b[0m\u001b[1;33m\u001b[0m\u001b[0m\n\u001b[0m\u001b[0;32m     10\u001b[0m \u001b[0mrandom_pne_pic_load\u001b[0m\u001b[1;33m=\u001b[0m\u001b[0mImage\u001b[0m\u001b[1;33m.\u001b[0m\u001b[0mopen\u001b[0m\u001b[1;33m(\u001b[0m\u001b[0mtrain_datasets_pne\u001b[0m\u001b[1;33m+\u001b[0m\u001b[0mpne_image_datasets\u001b[0m\u001b[1;33m)\u001b[0m\u001b[1;33m\u001b[0m\u001b[1;33m\u001b[0m\u001b[0m\n\u001b[0;32m     11\u001b[0m \u001b[1;33m\u001b[0m\u001b[0m\n",
      "\u001b[1;32m~\\anaconda3\\envs\\DL\\lib\\site-packages\\PIL\\Image.py\u001b[0m in \u001b[0;36mopen\u001b[1;34m(fp, mode, formats)\u001b[0m\n\u001b[0;32m   2973\u001b[0m \u001b[1;33m\u001b[0m\u001b[0m\n\u001b[0;32m   2974\u001b[0m     \u001b[1;32mif\u001b[0m \u001b[0mfilename\u001b[0m\u001b[1;33m:\u001b[0m\u001b[1;33m\u001b[0m\u001b[1;33m\u001b[0m\u001b[0m\n\u001b[1;32m-> 2975\u001b[1;33m         \u001b[0mfp\u001b[0m \u001b[1;33m=\u001b[0m \u001b[0mbuiltins\u001b[0m\u001b[1;33m.\u001b[0m\u001b[0mopen\u001b[0m\u001b[1;33m(\u001b[0m\u001b[0mfilename\u001b[0m\u001b[1;33m,\u001b[0m \u001b[1;34m\"rb\"\u001b[0m\u001b[1;33m)\u001b[0m\u001b[1;33m\u001b[0m\u001b[1;33m\u001b[0m\u001b[0m\n\u001b[0m\u001b[0;32m   2976\u001b[0m         \u001b[0mexclusive_fp\u001b[0m \u001b[1;33m=\u001b[0m \u001b[1;32mTrue\u001b[0m\u001b[1;33m\u001b[0m\u001b[1;33m\u001b[0m\u001b[0m\n\u001b[0;32m   2977\u001b[0m \u001b[1;33m\u001b[0m\u001b[0m\n",
      "\u001b[1;31mFileNotFoundError\u001b[0m: [Errno 2] No such file or directory: '../Datasets/train/NORMALNORMAL2-IM-0512-0001.jpeg'"
     ]
    }
   ],
   "source": [
    "print(\"NORMAL IMAGE\")\n",
    "random_normal_pic=os.listdir(trainDatasets_normal)[random_value_normal]\n",
    "normal_image_datasets=random_normal_pic\n",
    "print(\"Normal image\",normal_image_datasets)\n",
    "\n",
    "random_pne_pic=os.listdir(train_datasets_pne)[random_value_pne]\n",
    "pne_image_datasets=random_pne_pic\n",
    "print(\"Pneumonia image\",random_pne_pic)\n",
    "random_normalpic_load=Image.open(trainDatasets_normal+normal_image_datasets)\n",
    "random_pne_pic_load=Image.open(train_datasets_pne+pne_image_datasets)\n",
    "\n",
    "f=plt.figure(figsize=(10,8))\n",
    "subplot=f.add_subplot(1,2,1)\n",
    "img_load_plot=plt.imshow(random_normalpic_load)\n",
    "subplot.set_title(\"NORMAL\")\n",
    "\n",
    "subplot=f.add_subplot(1,2,2)\n",
    "img_load_plot=plt.imshow(random_pne_pic_load)\n",
    "subplot.set_title(\"Pneumonia\")"
   ]
  },
  {
   "cell_type": "code",
   "execution_count": null,
   "id": "211ced8f-43da-4760-819d-bf4583364288",
   "metadata": {},
   "outputs": [],
   "source": [
    "datasets=Image.open(\"../Datasets/train/NORMAL/IM-01155-0001.jpeg\")\n",
    "data=plt.imread(\"../Datasets/train/NORMAL/IM-01155-0001.jpeg\")\n",
    "data.shape"
   ]
  },
  {
   "cell_type": "code",
   "execution_count": 9,
   "id": "3119f428-fb9c-43ae-a9c0-a9363f9e121b",
   "metadata": {},
   "outputs": [],
   "source": [
    "model_for_Chest=Sequential()\n",
    "#1st layer\n",
    "model_for_Chest.add(Conv2D(32,(3,3), activation='relu', input_shape=(64,64,3)))\n",
    "model_for_Chest.add(MaxPooling2D(pool_size=(2,2)))\n",
    "\n",
    "#2nd layer\n",
    "model_for_Chest.add(Conv2D(64,(3,3), activation='relu'))\n",
    "model_for_Chest.add(MaxPooling2D(pool_size=(2,2)))\n",
    "#3rd layer\n",
    "model_for_Chest.add(Conv2D(128,(3,3), activation='relu'))\n",
    "model_for_Chest.add(MaxPooling2D(pool_size=(2,2)))\n",
    "\n",
    "#4th layer\n",
    "model_for_Chest.add(Conv2D(256,(3,3), activation='relu'))\n",
    "model_for_Chest.add(MaxPooling2D(pool_size=(2,2)))\n",
    "#bridge\n",
    "model_for_Chest.add(Flatten())\n",
    "model_for_Chest.add(Dense(activation='relu', units=128))\n",
    "model_for_Chest.add(Dense(activation='sigmoid', units=1))"
   ]
  },
  {
   "cell_type": "code",
   "execution_count": 10,
   "id": "0a5f9595-b9c8-4fdd-9e15-c22e7faba047",
   "metadata": {},
   "outputs": [],
   "source": [
    "model_for_Chest.compile(optimizer=\"adam\",\n",
    "                        loss=\"binary_crossentropy\",\n",
    "                        metrics=[\"accuracy\"])"
   ]
  },
  {
   "cell_type": "code",
   "execution_count": 11,
   "id": "990d0b59-e804-4677-9a3c-55aeed854b77",
   "metadata": {},
   "outputs": [],
   "source": [
    "number_test_sample=600\n",
    "batch_size=32"
   ]
  },
  {
   "cell_type": "code",
   "execution_count": 12,
   "id": "0750da72-f2c7-4859-afcf-03d3a2b3f162",
   "metadata": {},
   "outputs": [],
   "source": [
    "train_datasets_generator=ImageDataGenerator(rescale=1./255,\n",
    "                                            shear_range=0.2,\n",
    "                                            zoom_range=0.2,\n",
    "                                            horizontal_flip=True)\n",
    "test_datasets_generator=ImageDataGenerator(rescale=1./255)"
   ]
  },
  {
   "cell_type": "code",
   "execution_count": 13,
   "id": "91fe89b1-bb54-4fad-a47e-759a4b9a3f04",
   "metadata": {},
   "outputs": [
    {
     "name": "stdout",
     "output_type": "stream",
     "text": [
      "Found 5218 images belonging to 2 classes.\n",
      "Found 628 images belonging to 2 classes.\n",
      "Found 16 images belonging to 2 classes.\n"
     ]
    }
   ],
   "source": [
    "train_dataset_manage=train_datasets_generator.flow_from_directory(\"../Datasets/train/\",\n",
    "                                                                  target_size=(64,64),\n",
    "                                                                  batch_size=32,\n",
    "                                                                  class_mode=\"binary\")\n",
    "test_dataset_manage=test_datasets_generator.flow_from_directory(\"../Datasets/test/\",\n",
    "                                                                  target_size=(64,64),\n",
    "                                                                  batch_size=32,\n",
    "                                                                  class_mode=\"binary\")\n",
    "validation_dataset_manage=test_datasets_generator.flow_from_directory(\"../Datasets/val/\",\n",
    "                                                                  target_size=(64,64),\n",
    "                                                                  batch_size=32,\n",
    "                                                                  class_mode=\"binary\")"
   ]
  },
  {
   "cell_type": "code",
   "execution_count": 14,
   "id": "d31a7958-3ad3-46b8-886f-694d6e4b75b2",
   "metadata": {},
   "outputs": [
    {
     "name": "stdout",
     "output_type": "stream",
     "text": [
      "Model: \"sequential\"\n",
      "_________________________________________________________________\n",
      " Layer (type)                Output Shape              Param #   \n",
      "=================================================================\n",
      " conv2d (Conv2D)             (None, 62, 62, 32)        896       \n",
      "                                                                 \n",
      " max_pooling2d (MaxPooling2D  (None, 31, 31, 32)       0         \n",
      " )                                                               \n",
      "                                                                 \n",
      " conv2d_1 (Conv2D)           (None, 29, 29, 64)        18496     \n",
      "                                                                 \n",
      " max_pooling2d_1 (MaxPooling  (None, 14, 14, 64)       0         \n",
      " 2D)                                                             \n",
      "                                                                 \n",
      " flatten (Flatten)           (None, 12544)             0         \n",
      "                                                                 \n",
      " dense (Dense)               (None, 128)               1605760   \n",
      "                                                                 \n",
      " dense_1 (Dense)             (None, 1)                 129       \n",
      "                                                                 \n",
      "=================================================================\n",
      "Total params: 1,625,281\n",
      "Trainable params: 1,625,281\n",
      "Non-trainable params: 0\n",
      "_________________________________________________________________\n"
     ]
    }
   ],
   "source": [
    "model_for_Chest.summary()"
   ]
  },
  {
   "cell_type": "code",
   "execution_count": 15,
   "id": "4648182e-4cb5-4941-8fc7-899cedc43d21",
   "metadata": {},
   "outputs": [],
   "source": [
    "import warnings\n",
    "warnings.filterwarnings(\"ignore\")"
   ]
  },
  {
   "cell_type": "code",
   "execution_count": 16,
   "id": "79567d67-16a5-4337-af3b-8a29d91f0b96",
   "metadata": {},
   "outputs": [
    {
     "name": "stdout",
     "output_type": "stream",
     "text": [
      "Epoch 1/10\n",
      "160/160 [==============================] - ETA: 0s - loss: 0.3970 - accuracy: 0.8240WARNING:tensorflow:Your input ran out of data; interrupting training. Make sure that your dataset or generator can generate at least `steps_per_epoch * epochs` batches (in this case, 600 batches). You may need to use the repeat() function when building your dataset.\n",
      "160/160 [==============================] - 66s 407ms/step - loss: 0.3970 - accuracy: 0.8240 - val_loss: 0.3880 - val_accuracy: 0.8125\n",
      "Epoch 2/10\n",
      "160/160 [==============================] - 65s 407ms/step - loss: 0.2348 - accuracy: 0.9039\n",
      "Epoch 3/10\n",
      "160/160 [==============================] - 66s 412ms/step - loss: 0.2284 - accuracy: 0.9063\n",
      "Epoch 4/10\n",
      "160/160 [==============================] - 67s 418ms/step - loss: 0.1873 - accuracy: 0.9291\n",
      "Epoch 5/10\n",
      "160/160 [==============================] - 66s 413ms/step - loss: 0.1789 - accuracy: 0.9269\n",
      "Epoch 6/10\n",
      "160/160 [==============================] - 65s 405ms/step - loss: 0.1660 - accuracy: 0.9350\n",
      "Epoch 7/10\n",
      "160/160 [==============================] - 66s 413ms/step - loss: 0.1519 - accuracy: 0.9399\n",
      "Epoch 8/10\n",
      "160/160 [==============================] - 66s 409ms/step - loss: 0.1611 - accuracy: 0.9367\n",
      "Epoch 9/10\n",
      "160/160 [==============================] - 67s 416ms/step - loss: 0.1348 - accuracy: 0.9487\n",
      "Epoch 10/10\n",
      "160/160 [==============================] - 66s 414ms/step - loss: 0.1355 - accuracy: 0.9472\n"
     ]
    }
   ],
   "source": [
    "model_for_Chest_info=model_for_Chest.fit_generator(train_dataset_manage,\n",
    "                                                   steps_per_epoch=160,\n",
    "                                                   epochs=10,\n",
    "                                                   validation_data=validation_dataset_manage,\n",
    "                                                   validation_steps=600)"
   ]
  },
  {
   "cell_type": "code",
   "execution_count": 17,
   "id": "da6bd42f-019b-440a-b34b-febcaf8d18c3",
   "metadata": {},
   "outputs": [
    {
     "name": "stdout",
     "output_type": "stream",
     "text": [
      "WARNING:tensorflow:Your input ran out of data; interrupting training. Make sure that your dataset or generator can generate at least `steps_per_epoch * epochs` batches (in this case, 600 batches). You may need to use the repeat() function when building your dataset.\n",
      "Accuracy :  88.37579488754272 %\n"
     ]
    }
   ],
   "source": [
    "test_accuracy=model_for_Chest.evaluate_generator(test_dataset_manage, steps=600)\n",
    "print(\"Accuracy : \",test_accuracy[1]*100, \"%\")"
   ]
  },
  {
   "cell_type": "code",
   "execution_count": 18,
   "id": "d628400d-4de5-4a27-bd8e-9c94eac3a8d3",
   "metadata": {},
   "outputs": [
    {
     "name": "stdout",
     "output_type": "stream",
     "text": [
      "WARNING:tensorflow:Your input ran out of data; interrupting training. Make sure that your dataset or generator can generate at least `steps_per_epoch * epochs` batches (in this case, 100 batches). You may need to use the repeat() function when building your dataset.\n"
     ]
    }
   ],
   "source": [
    "y_predict=model_for_Chest.predict_generator(test_dataset_manage,100)\n",
    "y_predicts=np.argmax(y_predict,axis=1)"
   ]
  },
  {
   "cell_type": "code",
   "execution_count": 19,
   "id": "1972482c-7f7b-48b9-a60a-f1ceef21130e",
   "metadata": {},
   "outputs": [
    {
     "data": {
      "image/png": "[encoded data removed]",
      "text/plain": [
       "<Figure size 432x288 with 1 Axes>"
      ]
     },
     "metadata": {
      "needs_background": "light"
     },
     "output_type": "display_data"
    }
   ],
   "source": [
    "plt.plot(model_for_Chest_info.history['accuracy'])\n",
    "plt.plot(model_for_Chest_info.history['loss'])\n",
    "plt.title('Accuracy')\n",
    "plt.xlabel('Accuracy')\n",
    "plt.ylabel('epoch')\n",
    "plt.legend([\"Acc\",\"Loss\"],loc=\"upper left\")\n",
    "plt.show()"
   ]
  },
  {
   "cell_type": "code",
   "execution_count": null,
   "id": "aea3a51e-4330-474a-803a-0e484cfe7bfc",
   "metadata": {},
   "outputs": [],
   "source": []
  }
 ],
 "metadata": {
  "kernelspec": {
   "display_name": "Python 3 (ipykernel)",
   "language": "python",
   "name": "python3"
  },
  "language_info": {
   "codemirror_mode": {
    "name": "ipython",
    "version": 3
   },
   "file_extension": ".py",
   "mimetype": "text/x-python",
   "name": "python",
   "nbconvert_exporter": "python",
   "pygments_lexer": "ipython3",
   "version": "3.7.11"
  }
 },
 "nbformat": 4,
 "nbformat_minor": 5
}
